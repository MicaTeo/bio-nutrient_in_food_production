{
 "cells": [
  {
   "cell_type": "code",
   "execution_count": null,
   "metadata": {},
   "outputs": [],
   "source": [
    "import pandas as pd\n",
    "import numpy as np\n",
    "from sklearn import ensemble\n",
    "from sklearn.metrics import mean_squared_error\n",
    "from sklearn.model_selection import train_test_split\n",
    "import matplotlib.pyplot as plt\n",
    "from sklearn.inspection import permutation_importance\n",
    "from scipy.stats import spearmanr"
   ]
  },
  {
   "cell_type": "code",
   "execution_count": null,
   "metadata": {},
   "outputs": [],
   "source": [
    "data = pd.read_csv('data_250.csv')"
   ]
  },
  {
   "cell_type": "code",
   "execution_count": null,
   "metadata": {},
   "outputs": [],
   "source": [
    "data.columns"
   ]
  },
  {
   "cell_type": "code",
   "execution_count": null,
   "metadata": {},
   "outputs": [],
   "source": [
    "X = data[['0', '1', '2','3', '4', '5', '6', '7', '8', '9', '10', '11', '12', '13', '14', '15','16', '17', '18', '19', '20', '21', '22']].to_numpy()\n",
    "y = data['ph'].to_numpy()"
   ]
  },
  {
   "cell_type": "code",
   "execution_count": null,
   "metadata": {},
   "outputs": [],
   "source": [
    "SEED = 1\n",
    "\n",
    "TEST_SIZE = 0.3\n",
    "\n",
    "train_X, test_X, train_y, test_y = train_test_split(X, y, test_size=TEST_SIZE, random_state=SEED)\n",
    "\n",
    "mtrys = list(range(3, 23, 2))\n",
    "maxnodes = list(range(60, 200, 10))\n"
   ]
  },
  {
   "cell_type": "code",
   "execution_count": null,
   "metadata": {},
   "outputs": [],
   "source": [
    "oob_scores = np.zeros((len(mtrys), len(maxnodes)))\n",
    "\n",
    "print('Training models...')\n",
    "for i, mtry in enumerate(mtrys):\n",
    "    print(i)\n",
    "    for j, maxnode in enumerate(maxnodes):\n",
    "        print(j)\n",
    "        model = ensemble.RandomForestRegressor(oob_score=True, n_estimators=500, max_features=mtry, max_leaf_nodes=maxnode, random_state=SEED)\n",
    "        model.fit(train_X, train_y)\n",
    "        oob_scores[i, j] = mean_squared_error(model.oob_prediction_, train_y)\n",
    "print('Finished!')\n",
    "\n",
    "idx_mtry, idx_maxnode = np.unravel_index(np.argmin(oob_scores), oob_scores.shape)\n",
    "print(mtrys[idx_mtry], maxnodes[idx_maxnode])\n"
   ]
  },
  {
   "cell_type": "code",
   "execution_count": null,
   "metadata": {},
   "outputs": [],
   "source": [
    "pd.DataFrame(test_X).to_csv('test_X.csv')\n",
    "pd.DataFrame(test_y).to_csv('test_y.csv')\n",
    "pd.DataFrame(train_X).to_csv('train_X.csv')\n",
    "pd.DataFrame(train_y).to_csv('train_y.csv')"
   ]
  },
  {
   "cell_type": "code",
   "execution_count": null,
   "metadata": {},
   "outputs": [],
   "source": [
    "mtry = 23\n",
    "maxnode = 200"
   ]
  },
  {
   "cell_type": "code",
   "execution_count": null,
   "metadata": {},
   "outputs": [],
   "source": [
    "tuned_model = ensemble.RandomForestRegressor(max_features=mtry, max_leaf_nodes=maxnode, random_state=SEED, oob_score=True)\n",
    "tuned_model.fit(train_X, train_y)"
   ]
  },
  {
   "cell_type": "code",
   "execution_count": null,
   "metadata": {},
   "outputs": [],
   "source": [
    "impurity_importances = tuned_model.feature_importances_\n",
    "\n",
    "mse_importances = permutation_importance(\n",
    "    tuned_model, test_X, test_y, n_repeats=10, random_state=42, n_jobs=2\n",
    ").importances_mean\n",
    "\n",
    "# Normalise\n",
    "mse_importances = mse_importances / mse_importances.sum()\n",
    "impurity_importances = impurity_importances / impurity_importances.sum()\n",
    "\n",
    "correl = round(spearmanr(impurity_importances, mse_importances).correlation, 4)\n",
    "\n",
    "df = pd.DataFrame.from_dict({\n",
    "    #'variable': feature_cols,\n",
    "    '%IncMSE': mse_importances,\n",
    "    'IncNodePurity': impurity_importances\n",
    "})\n",
    "#df = df.set_index('variable')\n",
    "df = df.sort_index()\n",
    "\n",
    "df.plot.bar()\n",
    "plt.xlabel('variable')\n",
    "plt.ylabel('normalised_importance')\n",
    "plt.title(f'Spearman correl: {correl}')\n",
    "plt.xticks(rotation=45)\n",
    "plt.show()"
   ]
  },
  {
   "cell_type": "code",
   "execution_count": null,
   "metadata": {},
   "outputs": [],
   "source": [
    "yhat = tuned_model.predict(test_X)\n",
    "mean_squared_error(yhat, test_y)"
   ]
  },
  {
   "cell_type": "code",
   "execution_count": null,
   "metadata": {},
   "outputs": [],
   "source": [
    "X_new = data[['4', '9', '12', '13', '16', '17']].to_numpy()"
   ]
  },
  {
   "cell_type": "code",
   "execution_count": null,
   "metadata": {},
   "outputs": [],
   "source": [
    "SEED = 1\n",
    "\n",
    "TEST_SIZE = 0.3\n",
    "\n",
    "train_X, test_X, train_y, test_y = train_test_split(X_new, y, test_size=TEST_SIZE, random_state=SEED)\n",
    "\n",
    "mtrys = list(range(13, 25, 2))\n",
    "maxnodes = list(range(20, 90, 10))\n",
    "\n",
    "oob_scores = np.zeros((len(mtrys), len(maxnodes)))\n",
    "\n",
    "print('Training models...')\n",
    "for i, mtry in enumerate(mtrys):\n",
    "    print(i)\n",
    "    for j, maxnode in enumerate(maxnodes):\n",
    "        print(j)\n",
    "        model = ensemble.RandomForestRegressor(oob_score=True, n_estimators=200, max_features=mtry, max_leaf_nodes=maxnode, random_state=SEED)\n",
    "        model.fit(train_X, train_y)\n",
    "        oob_scores[i, j] = mean_squared_error(model.oob_prediction_, train_y)\n",
    "print('Finished!')\n",
    "\n",
    "idx_mtry, idx_maxnode = np.unravel_index(np.argmin(oob_scores), oob_scores.shape)\n",
    "print(mtrys[idx_mtry], maxnodes[idx_maxnode])\n"
   ]
  },
  {
   "cell_type": "code",
   "execution_count": null,
   "metadata": {},
   "outputs": [],
   "source": [
    "mtry = 6\n",
    "maxnode = 200"
   ]
  },
  {
   "cell_type": "code",
   "execution_count": null,
   "metadata": {},
   "outputs": [],
   "source": [
    "train_X, test_X, train_y, test_y = train_test_split(X_new, y, test_size=TEST_SIZE, random_state=SEED)\n",
    "\n",
    "tuned_model = ensemble.RandomForestRegressor(max_features=mtry, max_leaf_nodes=maxnode, random_state=SEED, oob_score=True)\n",
    "tuned_model.fit(train_X, train_y)"
   ]
  },
  {
   "cell_type": "code",
   "execution_count": null,
   "metadata": {},
   "outputs": [],
   "source": [
    "yhat = tuned_model.predict(test_X)\n",
    "yhat_oob = tuned_model.oob_prediction_"
   ]
  },
  {
   "cell_type": "code",
   "execution_count": null,
   "metadata": {},
   "outputs": [],
   "source": [
    "plt.scatter(test_y, yhat, color='red', marker='.', label='yhat')\n",
    "#plt.scatter(train_y, yhat_oob, color='teal', marker='.', label='yhat_oob')\n",
    "plt.axline((4, 4), slope=1, color=\"black\")\n",
    "plt.xlabel('y')\n",
    "plt.ylabel('prediction')\n",
    "plt.legend()"
   ]
  },
  {
   "cell_type": "code",
   "execution_count": null,
   "metadata": {},
   "outputs": [],
   "source": [
    "#plt.scatter(test_y, yhat, color='red', marker='.', label='yhat')\n",
    "plt.scatter(train_y, yhat_oob, color='teal', marker='.', label='yhat_oob')\n",
    "plt.axline((4, 4), slope=1, color=\"black\")\n",
    "plt.xlabel('y')\n",
    "plt.ylabel('prediction')\n",
    "plt.legend()"
   ]
  },
  {
   "cell_type": "code",
   "execution_count": null,
   "metadata": {},
   "outputs": [],
   "source": [
    "yhat_all = tuned_model.predict(X_new)"
   ]
  },
  {
   "cell_type": "code",
   "execution_count": null,
   "metadata": {},
   "outputs": [],
   "source": [
    "data['prediction'] = yhat_all"
   ]
  },
  {
   "cell_type": "code",
   "execution_count": null,
   "metadata": {},
   "outputs": [],
   "source": [
    "data['error'] = abs(yhat_all-y)"
   ]
  },
  {
   "cell_type": "code",
   "execution_count": null,
   "metadata": {},
   "outputs": [],
   "source": [
    "pip install plotly"
   ]
  },
  {
   "cell_type": "code",
   "execution_count": null,
   "metadata": {},
   "outputs": [],
   "source": [
    "import plotly.express as px\n",
    "\n",
    "# Set up mapbox access token\n",
    "mapbox_access_token = 'pk.eyJ1IjoibWljYXRlbyIsImEiOiJjbGduZjJzeWwwN2ViM2Rwb3JyYnYyYXcxIn0.tsM4wDfrZjYa5ds4s9atSQ'\n",
    "# Create a scatter map with tooltips\n",
    "fig = px.scatter_mapbox(data, lat='latitude', lon='longitude', color='error', hover_data=['ph'],\n",
    "                        zoom=8, center={'lat': data['latitude'].mean(), 'lon': data['longitude'].mean()})\n",
    "# Set up mapbox style and access token\n",
    "fig.update_layout(mapbox_style='open-street-map', mapbox_accesstoken=mapbox_access_token)\n",
    "# Show the map\n",
    "fig.show()"
   ]
  },
  {
   "cell_type": "code",
   "execution_count": null,
   "metadata": {},
   "outputs": [],
   "source": [
    "import plotly.express as px\n",
    "\n",
    "# Set up mapbox access token\n",
    "mapbox_access_token = 'pk.eyJ1IjoibWljYXRlbyIsImEiOiJjbGduZjJzeWwwN2ViM2Rwb3JyYnYyYXcxIn0.tsM4wDfrZjYa5ds4s9atSQ'\n",
    "# Create a scatter map with tooltips\n",
    "fig = px.scatter_mapbox(data, lat='latitude', lon='longitude', color='prediction', hover_data=['ph'],\n",
    "                        zoom=8, center={'lat': data['latitude'].mean(), 'lon': data['longitude'].mean()})\n",
    "# Set up mapbox style and access token\n",
    "fig.update_layout(mapbox_style='open-street-map', mapbox_accesstoken=mapbox_access_token)\n",
    "# Show the map\n",
    "fig.show()"
   ]
  },
  {
   "cell_type": "code",
   "execution_count": null,
   "metadata": {},
   "outputs": [],
   "source": [
    "import skimage.io as io\n",
    "\n",
    "im = io.imread('D:/y1/modelling bootcamp/data/s2sr_250mpp.tif')\n",
    "maps = im[:,:,(4, 9, 12, 13, 16, 17)]"
   ]
  },
  {
   "cell_type": "code",
   "execution_count": null,
   "metadata": {},
   "outputs": [],
   "source": [
    "preds = []\n",
    "for i in maps:\n",
    "    preds.append(tuned_model.predict(i))"
   ]
  },
  {
   "cell_type": "code",
   "execution_count": null,
   "metadata": {},
   "outputs": [],
   "source": [
    "import rasterio\n",
    "import numpy as np\n",
    "\n",
    "file_name = 'D:/y1/modelling bootcamp/data/s2sr_250mpp.tif'\n",
    "with rasterio.open(file_name) as src:\n",
    "    band1 = src.read(1)\n",
    "    print('Band1 has shape', band1.shape)\n",
    "    height = band1.shape[0]\n",
    "    width = band1.shape[1]\n",
    "    cols, rows = np.meshgrid(np.arange(width), np.arange(height))\n",
    "    xs, ys = rasterio.transform.xy(src.transform, rows, cols)\n",
    "    lons= np.array(xs)\n",
    "    lats = np.array(ys)\n",
    "    print('lons shape', lons.shape)"
   ]
  },
  {
   "cell_type": "code",
   "execution_count": null,
   "metadata": {},
   "outputs": [],
   "source": [
    "lons_flat = lons.reshape(-1,1).flatten()\n",
    "lats_flat = lats.reshape(-1,1).flatten()"
   ]
  },
  {
   "cell_type": "code",
   "execution_count": null,
   "metadata": {},
   "outputs": [],
   "source": [
    "preds_flat = [item for sublist in preds for item in sublist]"
   ]
  },
  {
   "cell_type": "code",
   "execution_count": null,
   "metadata": {},
   "outputs": [],
   "source": [
    "preds_flat = np.array(preds_flat)"
   ]
  },
  {
   "cell_type": "code",
   "execution_count": null,
   "metadata": {},
   "outputs": [],
   "source": [
    "fullmap = pd.DataFrame({'longitude': lons_flat, 'latitude': lats_flat, 'predictions': preds_flat})"
   ]
  },
  {
   "cell_type": "code",
   "execution_count": null,
   "metadata": {},
   "outputs": [],
   "source": [
    "fullmap['ph'] = data['ph']"
   ]
  },
  {
   "cell_type": "code",
   "execution_count": null,
   "metadata": {},
   "outputs": [],
   "source": [
    "import plotly.express as px\n",
    "\n",
    "# Set up mapbox access token\n",
    "mapbox_access_token = 'pk.eyJ1IjoibWljYXRlbyIsImEiOiJjbGduZjJzeWwwN2ViM2Rwb3JyYnYyYXcxIn0.tsM4wDfrZjYa5ds4s9atSQ'\n",
    "# Create a scatter map with tooltips\n",
    "fig = px.scatter_mapbox(fullmap, lat='latitude', lon='longitude', color='predictions', hover_data=['ph'],\n",
    "                        zoom=8, center={'lat': data['latitude'].mean(), 'lon': data['longitude'].mean()})\n",
    "# Set up mapbox style and access token\n",
    "fig.update_layout(mapbox_style='open-street-map', mapbox_accesstoken=mapbox_access_token)\n",
    "# Show the map\n",
    "fig.show()"
   ]
  }
 ],
 "metadata": {
  "kernelspec": {
   "display_name": "Python 3",
   "language": "python",
   "name": "python3"
  },
  "language_info": {
   "codemirror_mode": {
    "name": "ipython",
    "version": 3
   },
   "file_extension": ".py",
   "mimetype": "text/x-python",
   "name": "python",
   "nbconvert_exporter": "python",
   "pygments_lexer": "ipython3",
   "version": "3.7.6"
  }
 },
 "nbformat": 4,
 "nbformat_minor": 5
}
