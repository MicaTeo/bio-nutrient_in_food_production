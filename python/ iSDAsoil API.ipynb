{
 "cells": [
  {
   "cell_type": "code",
   "execution_count": 1,
   "metadata": {},
   "outputs": [],
   "source": [
    "import requests"
   ]
  },
  {
   "cell_type": "code",
   "execution_count": 24,
   "metadata": {},
   "outputs": [
    {
     "name": "stdout",
     "output_type": "stream",
     "text": [
      "<Response [200]>\n"
     ]
    }
   ],
   "source": [
    "response = requests.get(\"https://api.isda-africa.com/v1/docs\")\n",
    "print(response)"
   ]
  },
  {
   "cell_type": "code",
   "execution_count": 25,
   "metadata": {},
   "outputs": [
    {
     "name": "stdout",
     "output_type": "stream",
     "text": [
      "{'swagger': '2.0', 'info': {'title': 'iSDAsoil API', 'description': 'Use the iSDAsoil API to access soil data and agronomy information for Africa.', 'version': '1.0.0', 'contact': {'email': 'info@isda-africa.com'}}, 'externalDocs': {'description': 'Find out more about our API.', 'url': 'https://isda-africa.com/isdasoil/developer'}, 'host': 'api.isda-africa.com', 'basePath': '/v1', 'schemes': ['https'], 'produces': ['application/json'], 'paths': {'/docs': {'get': {'security': [], 'description': 'OpenAPI2 definition of the API.', 'operationId': 'get-docs', 'summary': 'Return OpenAPI2 specification json file.', 'responses': {'200': {'description': 'OK'}}}}, '/layers': {'get': {'security': [{'api_key': []}], 'description': 'Return information on all available soil property and agronomy layers that can be queried.', 'operationId': 'get-layers', 'summary': 'Return list of all available layers.', 'responses': {'200': {'description': 'OK', 'examples': {'application/json': {'potassium_extractable': {'description': 'Potassium, extractable', 'theme': 'Soil properties', 'unit': 'ppm', 'uncertainty': 123, 'value': {'type': 'float'}, 'depths': {'unit': 'cm', 'values': ['0-20', '20-50']}}}}, 'schema': {'$ref': '#/definitions/Layer'}}}}}, '/soilproperty': {'get': {'security': [{'api_key': []}], 'description': 'Return soil and agronomy information for a specific latitude/longitude within Africa.', 'operationId': 'get-soil', 'summary': 'Return soil property information for a specific location.', 'parameters': [{'description': 'Latitude of location.', 'in': 'query', 'name': 'lat', 'required': True, 'type': 'number'}, {'description': 'Longitude of location.', 'in': 'query', 'name': 'lon', 'required': True, 'type': 'number'}, {'description': 'Short name of the soil/agronomy property - used to retrieve a specific property, otherwise all are returned.', 'in': 'query', 'name': 'property', 'required': False, 'type': 'string'}], 'responses': {'200': {'description': 'OK', 'examples': {'application/json': {'property': {'nitrogen_total': [{'value': {'unit': 'g/kg', 'type': 'float', 'value': 35.0}, 'depth': {'value': '0-20', 'unit': 'cm'}, 'uncertainty': [{'confidence_interval': '50%', 'lower_bound': 29.6, 'upper_bound': 40.4}, {'confidence_interval': '68%', 'lower_bound': 27.0, 'upper_bound': 43.0}, {'confidence_interval': '90%', 'lower_bound': 21.8, 'upper_bound': 48.2}]}]}}}, 'schema': {'$ref': '#/definitions/SoilResponse'}}, '400': {'description': 'Invalid or missing lat/lon.', 'examples': {'application/json': {'message': 'Wrong latitude/longitude format - please provide both values as numbers (-180<= lon <=180 and -90<= lat <=90)', 'status': 400, 'type': 'BadRequestError'}}, 'schema': {'$ref': '#/definitions/Error'}}}}}}, 'definitions': {'SoilResponse': {'type': 'object', 'properties': {'property': {'type': 'object', 'properties': {'soil_property': {'description': 'Dynamically generated depending on the soil property being returned.', 'type': 'array', 'items': {'$ref': '#/definitions/DataPoint'}}}}}}, 'DataPoint': {'type': 'object', 'properties': {'value': {'description': 'Information associated with the data value.', 'type': 'object', 'properties': {'unit': {'description': 'The unit associated with the data value.', 'type': 'string'}, 'type': {'description': 'The data type of the value.', 'type': 'string'}, 'value': {'description': 'The value.'}}}, 'depth': {'description': 'The depth or depth range associated with the data value. 0cm is the soil surface.', 'type': 'object', 'properties': {'value': {'description': 'The depth range applicable to the returned data value.', 'type': 'string'}, 'unit': {'description': 'The unit associated with the depth measurement.', 'type': 'string'}}}, 'uncertainty': {'description': 'The measure of uncertainty associated with the data value, given at different confidence intervals. This object is only returned if the data was created using predictive machine learning, otherwise the returned value is null.', 'type': 'array', 'items': {'type': 'object', 'properties': {'confidence_interval': {'description': 'The proportion of the variance of the value (as a percentage) covered by the uncertainty measurement.', 'type': 'string'}, 'lower_bound': {'description': 'The lower limit of the uncertainty measurement at the given confidence interval.', 'type': 'number'}, 'upper_bound': {'description': 'The upper limit of the uncertainty measurement at the given confidence interval.', 'type': 'number'}}}}}}, 'Layer': {'type': 'object', 'properties': {'property': {'type': 'object', 'properties': {'soil_property': {'description': 'Name of the property to be used in queries to the /soilproperty endpoint.', 'type': 'object', 'properties': {'description': {'description': 'Human readable name of the property.', 'type': 'string'}, 'theme': {'description': 'Thematic information about the returned layer, e.g. \"Soil properties\" or \"Agronomy information\".', 'type': 'string'}, 'unit': {'description': 'Unit of measurement associated with the property.', 'type': 'string'}, 'uncertainty': {'description': 'Indicator of whether a measurement of uncertainty is provided with the data.', 'type': 'boolean'}, 'value': {'description': 'Data type of the values associated with the property.', 'type': 'string'}, 'depths': {'description': 'Available depth ranges that can be queried for the property.', 'type': 'object', 'properties': {'unit': {'description': 'The unit associated with the depth range measurement.', 'type': 'string'}, 'values': {'description': 'Available depths.', 'type': 'array', 'items': {'type': 'string'}}}}}}}}}}, 'Error': {'properties': {'message': {'type': 'string'}, 'status': {'type': 'integer'}, 'type': {'type': 'string'}}, 'type': 'object'}}, 'securityDefinitions': {'api_key': {'type': 'apiKey', 'name': 'key', 'in': 'query'}}}\n"
     ]
    }
   ],
   "source": [
    "data = response.json()\n",
    "print(data)"
   ]
  },
  {
   "cell_type": "code",
   "execution_count": 16,
   "metadata": {},
   "outputs": [
    {
     "data": {
      "text/plain": [
       "dict_keys(['swagger', 'info', 'externalDocs', 'host', 'basePath', 'schemes', 'produces', 'paths', 'definitions', 'securityDefinitions'])"
      ]
     },
     "execution_count": 16,
     "metadata": {},
     "output_type": "execute_result"
    }
   ],
   "source": [
    "data.keys()"
   ]
  },
  {
   "cell_type": "code",
   "execution_count": 21,
   "metadata": {},
   "outputs": [
    {
     "data": {
      "text/plain": [
       "{'SoilResponse': {'type': 'object',\n",
       "  'properties': {'property': {'type': 'object',\n",
       "    'properties': {'soil_property': {'description': 'Dynamically generated depending on the soil property being returned.',\n",
       "      'type': 'array',\n",
       "      'items': {'$ref': '#/definitions/DataPoint'}}}}}},\n",
       " 'DataPoint': {'type': 'object',\n",
       "  'properties': {'value': {'description': 'Information associated with the data value.',\n",
       "    'type': 'object',\n",
       "    'properties': {'unit': {'description': 'The unit associated with the data value.',\n",
       "      'type': 'string'},\n",
       "     'type': {'description': 'The data type of the value.', 'type': 'string'},\n",
       "     'value': {'description': 'The value.'}}},\n",
       "   'depth': {'description': 'The depth or depth range associated with the data value. 0cm is the soil surface.',\n",
       "    'type': 'object',\n",
       "    'properties': {'value': {'description': 'The depth range applicable to the returned data value.',\n",
       "      'type': 'string'},\n",
       "     'unit': {'description': 'The unit associated with the depth measurement.',\n",
       "      'type': 'string'}}},\n",
       "   'uncertainty': {'description': 'The measure of uncertainty associated with the data value, given at different confidence intervals. This object is only returned if the data was created using predictive machine learning, otherwise the returned value is null.',\n",
       "    'type': 'array',\n",
       "    'items': {'type': 'object',\n",
       "     'properties': {'confidence_interval': {'description': 'The proportion of the variance of the value (as a percentage) covered by the uncertainty measurement.',\n",
       "       'type': 'string'},\n",
       "      'lower_bound': {'description': 'The lower limit of the uncertainty measurement at the given confidence interval.',\n",
       "       'type': 'number'},\n",
       "      'upper_bound': {'description': 'The upper limit of the uncertainty measurement at the given confidence interval.',\n",
       "       'type': 'number'}}}}}},\n",
       " 'Layer': {'type': 'object',\n",
       "  'properties': {'property': {'type': 'object',\n",
       "    'properties': {'soil_property': {'description': 'Name of the property to be used in queries to the /soilproperty endpoint.',\n",
       "      'type': 'object',\n",
       "      'properties': {'description': {'description': 'Human readable name of the property.',\n",
       "        'type': 'string'},\n",
       "       'theme': {'description': 'Thematic information about the returned layer, e.g. \"Soil properties\" or \"Agronomy information\".',\n",
       "        'type': 'string'},\n",
       "       'unit': {'description': 'Unit of measurement associated with the property.',\n",
       "        'type': 'string'},\n",
       "       'uncertainty': {'description': 'Indicator of whether a measurement of uncertainty is provided with the data.',\n",
       "        'type': 'boolean'},\n",
       "       'value': {'description': 'Data type of the values associated with the property.',\n",
       "        'type': 'string'},\n",
       "       'depths': {'description': 'Available depth ranges that can be queried for the property.',\n",
       "        'type': 'object',\n",
       "        'properties': {'unit': {'description': 'The unit associated with the depth range measurement.',\n",
       "          'type': 'string'},\n",
       "         'values': {'description': 'Available depths.',\n",
       "          'type': 'array',\n",
       "          'items': {'type': 'string'}}}}}}}}}},\n",
       " 'Error': {'properties': {'message': {'type': 'string'},\n",
       "   'status': {'type': 'integer'},\n",
       "   'type': {'type': 'string'}},\n",
       "  'type': 'object'}}"
      ]
     },
     "execution_count": 21,
     "metadata": {},
     "output_type": "execute_result"
    }
   ],
   "source": [
    "data[\"definitions\"]"
   ]
  },
  {
   "cell_type": "code",
   "execution_count": null,
   "metadata": {},
   "outputs": [],
   "source": []
  },
  {
   "cell_type": "code",
   "execution_count": null,
   "metadata": {},
   "outputs": [],
   "source": []
  },
  {
   "cell_type": "code",
   "execution_count": null,
   "metadata": {},
   "outputs": [],
   "source": []
  }
 ],
 "metadata": {
  "kernelspec": {
   "display_name": "Python 3",
   "language": "python",
   "name": "python3"
  },
  "language_info": {
   "codemirror_mode": {
    "name": "ipython",
    "version": 3
   },
   "file_extension": ".py",
   "mimetype": "text/x-python",
   "name": "python",
   "nbconvert_exporter": "python",
   "pygments_lexer": "ipython3",
   "version": "3.7.6"
  }
 },
 "nbformat": 4,
 "nbformat_minor": 2
}
